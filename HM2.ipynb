{
 "cells": [
  {
   "cell_type": "markdown",
   "metadata": {},
   "source": [
    "# HM2: Numerical Optimization for Logistic Regression.\n",
    "\n",
    "### Name: [Your-Name?]\n"
   ]
  },
  {
   "cell_type": "markdown",
   "metadata": {},
   "source": [
    "## 0. You will do the following:\n",
    "\n",
    "1. Read the lecture note: [click here](https://github.com/wangshusen/DeepLearning/blob/master/LectureNotes/Logistic/paper/logistic.pdf)\n",
    "\n",
    "2. Read, complete, and run my code.\n",
    "\n",
    "3. **Implement mini-batch SGD** and evaluate the performance.\n",
    "\n",
    "4. Convert the .IPYNB file to .HTML file.\n",
    "\n",
    "    * The HTML file must contain **the code** and **the output after execution**.\n",
    "    \n",
    "    * Missing **the output after execution** will not be graded.\n",
    "    \n",
    "5. Upload this .HTML file to your Google Drive, Dropbox, or your Github repo.  (If you submit the file to Google Drive or Dropbox, you must make the file \"open-access\". The delay caused by \"deny of access\" may result in late penalty.)\n",
    "\n",
    "6. Submit the link to this .HTML file to Canvas.\n",
    "\n",
    "    * Example: https://github.com/wangshusen/CS583-2020S/blob/master/homework/HM2/HM2.html\n",
    "\n",
    "\n",
    "## Grading criteria:\n",
    "\n",
    "1. When computing the ```gradient``` and ```objective function value``` using a batch of samples, use **matrix-vector multiplication** rather than a FOR LOOP of **vector-vector multiplications**.\n",
    "\n",
    "2. Plot ```objective function value``` against ```epochs```. In the plot, compare GD, SGD, and MB-SGD (with $b=8$ and $b=64$). The plot must look reasonable."
   ]
  },
  {
   "cell_type": "code",
   "execution_count": null,
   "metadata": {},
   "outputs": [],
   "source": []
  },
  {
   "cell_type": "markdown",
   "metadata": {},
   "source": [
    "# 1. Data processing\n",
    "\n",
    "- Download the Diabete dataset from https://www.csie.ntu.edu.tw/~cjlin/libsvmtools/datasets/binary/diabetes\n",
    "- Load the data using sklearn.\n",
    "- Preprocess the data."
   ]
  },
  {
   "cell_type": "markdown",
   "metadata": {},
   "source": [
    "## 1.1. Load the data"
   ]
  },
  {
   "cell_type": "code",
   "execution_count": 1,
   "metadata": {},
   "outputs": [
    {
     "name": "stdout",
     "output_type": "stream",
     "text": [
      "Shape of x: (768, 8)\n",
      "Shape of y: (768,)\n"
     ]
    }
   ],
   "source": [
    "from sklearn import datasets\n",
    "import numpy\n",
    "\n",
    "x_sparse, y = datasets.load_svmlight_file('diabetes')\n",
    "x = x_sparse.todense()\n",
    "\n",
    "print('Shape of x: ' + str(x.shape))\n",
    "print('Shape of y: ' + str(y.shape))"
   ]
  },
  {
   "cell_type": "markdown",
   "metadata": {},
   "source": [
    "## 1.2. Partition to training and test sets"
   ]
  },
  {
   "cell_type": "code",
   "execution_count": 2,
   "metadata": {},
   "outputs": [
    {
     "name": "stdout",
     "output_type": "stream",
     "text": [
      "Shape of x_train: (640, 8)\n",
      "Shape of x_test: (128, 8)\n",
      "Shape of y_train: (640, 1)\n",
      "Shape of y_test: (128, 1)\n"
     ]
    }
   ],
   "source": [
    "# partition the data to training and test sets\n",
    "n = x.shape[0]\n",
    "n_train = 640\n",
    "n_test = n - n_train\n",
    "\n",
    "rand_indices = numpy.random.permutation(n)\n",
    "train_indices = rand_indices[0:n_train]\n",
    "test_indices = rand_indices[n_train:n]\n",
    "\n",
    "x_train = x[train_indices, :]\n",
    "x_test = x[test_indices, :]\n",
    "y_train = y[train_indices].reshape(n_train, 1)\n",
    "y_test = y[test_indices].reshape(n_test, 1)\n",
    "\n",
    "print('Shape of x_train: ' + str(x_train.shape))\n",
    "print('Shape of x_test: ' + str(x_test.shape))\n",
    "print('Shape of y_train: ' + str(y_train.shape))\n",
    "print('Shape of y_test: ' + str(y_test.shape))"
   ]
  },
  {
   "cell_type": "markdown",
   "metadata": {},
   "source": [
    "## 1.3. Feature scaling"
   ]
  },
  {
   "cell_type": "markdown",
   "metadata": {},
   "source": [
    "Use the standardization to trainsform both training and test features"
   ]
  },
  {
   "cell_type": "code",
   "execution_count": 3,
   "metadata": {},
   "outputs": [
    {
     "name": "stdout",
     "output_type": "stream",
     "text": [
      "test mean = \n",
      "[[ 0.06887773  0.073507    0.06759183  0.03109921 -0.11969166 -0.02579084\n",
      "   0.07636791  0.06769486]]\n",
      "test std = \n",
      "[[0.97521551 1.09228523 0.81434122 0.94778841 0.88413219 0.95075151\n",
      "  1.12409871 1.0468256 ]]\n"
     ]
    }
   ],
   "source": [
    "# Standardization\n",
    "import numpy\n",
    "\n",
    "# calculate mu and sig using the training set\n",
    "d = x_train.shape[1]\n",
    "mu = numpy.mean(x_train, axis=0).reshape(1, d)\n",
    "sig = numpy.std(x_train, axis=0).reshape(1, d)\n",
    "\n",
    "# transform the training features\n",
    "x_train = (x_train - mu) / (sig + 1E-6)\n",
    "\n",
    "# transform the test features\n",
    "x_test = (x_test - mu) / (sig + 1E-6)\n",
    "\n",
    "print('test mean = ')\n",
    "print(numpy.mean(x_test, axis=0))\n",
    "\n",
    "print('test std = ')\n",
    "print(numpy.std(x_test, axis=0))"
   ]
  },
  {
   "cell_type": "markdown",
   "metadata": {},
   "source": [
    "## 1.4. Add a dimension of all ones"
   ]
  },
  {
   "cell_type": "code",
   "execution_count": 4,
   "metadata": {},
   "outputs": [
    {
     "name": "stdout",
     "output_type": "stream",
     "text": [
      "Shape of x_train: (640, 9)\n",
      "Shape of x_test: (128, 9)\n"
     ]
    }
   ],
   "source": [
    "n_train, d = x_train.shape\n",
    "x_train = numpy.concatenate((x_train, numpy.ones((n_train, 1))), axis=1)\n",
    "\n",
    "n_test, d = x_test.shape\n",
    "x_test = numpy.concatenate((x_test, numpy.ones((n_test, 1))), axis=1)\n",
    "\n",
    "print('Shape of x_train: ' + str(x_train.shape))\n",
    "print('Shape of x_test: ' + str(x_test.shape))"
   ]
  },
  {
   "cell_type": "markdown",
   "metadata": {},
   "source": [
    "# 2. Logistic regression model\n",
    "\n",
    "The objective function is $Q (w; X, y) = \\frac{1}{n} \\sum_{i=1}^n \\log \\Big( 1 + \\exp \\big( - y_i x_i^T w \\big) \\Big) + \\frac{\\lambda}{2} \\| w \\|_2^2 $."
   ]
  },
  {
   "cell_type": "code",
   "execution_count": 5,
   "metadata": {},
   "outputs": [],
   "source": [
    "# Calculate the objective function value\n",
    "# Inputs:\n",
    "#     w: d-by-1 matrix\n",
    "#     x: n-by-d matrix\n",
    "#     y: n-by-1 matrix\n",
    "#     lam: scalar, the regularization parameter\n",
    "# Return:\n",
    "#     objective function value (scalar)\n",
    "def objective(w, x, y, lam):\n",
    "    n, d = x.shape\n",
    "    yx = numpy.multiply(y, x) # n-by-d matrix\n",
    "    yxw = numpy.dot(yx, w) # n-by-1 matrix\n",
    "    vec1 = numpy.exp(-yxw) # n-by-1 matrix\n",
    "    vec2 = numpy.log(1 + vec1) # n-by-1 matrix\n",
    "    loss = numpy.mean(vec2) # scalar\n",
    "    reg = lam / 2 * numpy.sum(w * w) # scalar\n",
    "    return loss + reg\n",
    "    "
   ]
  },
  {
   "cell_type": "code",
   "execution_count": null,
   "metadata": {},
   "outputs": [],
   "source": [
    "# initialize w\n",
    "d = x_train.shape[1]\n",
    "w = numpy.zeros((d, 1))\n",
    "\n",
    "# evaluate the objective function value at w\n",
    "lam = 1E-6\n",
    "objval0 = objective(w, x_train, y_train, lam)\n",
    "print('Initial objective function value = ' + str(objval0))"
   ]
  },
  {
   "cell_type": "markdown",
   "metadata": {},
   "source": [
    "# 3. Numerical optimization"
   ]
  },
  {
   "cell_type": "markdown",
   "metadata": {},
   "source": [
    "## 3.1. Gradient descent\n"
   ]
  },
  {
   "cell_type": "markdown",
   "metadata": {},
   "source": [
    "The gradient at $w$ is $g = - \\frac{1}{n} \\sum_{i=1}^n \\frac{y_i x_i }{1 + \\exp ( y_i x_i^T w)} + \\lambda w$"
   ]
  },
  {
   "cell_type": "code",
   "execution_count": 6,
   "metadata": {},
   "outputs": [],
   "source": [
    "# Calculate the gradient\n",
    "# Inputs:\n",
    "#     w: d-by-1 matrix\n",
    "#     x: n-by-d matrix\n",
    "#     y: n-by-1 matrix\n",
    "#     lam: scalar, the regularization parameter\n",
    "# Return:\n",
    "#     g: g: d-by-1 matrix, full gradient\n",
    "def gradient(w, x, y, lam):\n",
    "    n, d = x.shape\n",
    "    yx = numpy.multiply(y, x) # n-by-d matrix\n",
    "    yxw = numpy.dot(yx, w) # n-by-1 matrix\n",
    "    vec1 = numpy.exp(yxw) # n-by-1 matrix\n",
    "    vec2 = numpy.divide(yx, 1+vec1) # n-by-d matrix\n",
    "    vec3 = -numpy.mean(vec2, axis=0).reshape(d, 1) # d-by-1 matrix\n",
    "    g = vec3 + lam * w\n",
    "    return g"
   ]
  },
  {
   "cell_type": "code",
   "execution_count": 7,
   "metadata": {},
   "outputs": [],
   "source": [
    "# Gradient descent for solving logistic regression\n",
    "# Inputs:\n",
    "#     x: n-by-d matrix\n",
    "#     y: n-by-1 matrix\n",
    "#     lam: scalar, the regularization parameter\n",
    "#     stepsize: scalar\n",
    "#     max_iter: integer, the maximal iterations\n",
    "#     w: d-by-1 matrix, initialization of w\n",
    "# Return:\n",
    "#     w: d-by-1 matrix, the solution\n",
    "#     objvals: a record of each iteration's objective value\n",
    "def grad_descent(x, y, lam, stepsize, max_iter=100, w=None):\n",
    "    n, d = x.shape\n",
    "    objvals = numpy.zeros(max_iter) # store the objective values\n",
    "    if w is None:\n",
    "        w = numpy.zeros((d, 1)) # zero initialization\n",
    "    \n",
    "    for t in range(max_iter):\n",
    "        objval = objective(w, x, y, lam)\n",
    "        objvals[t] = objval\n",
    "        print('Objective value at t=' + str(t) + ' is ' + str(objval))\n",
    "        g = gradient(w, x, y, lam)\n",
    "        w -= stepsize * g\n",
    "    \n",
    "    return w, objvals"
   ]
  },
  {
   "cell_type": "markdown",
   "metadata": {},
   "source": [
    "Run gradient descent."
   ]
  },
  {
   "cell_type": "code",
   "execution_count": 8,
   "metadata": {},
   "outputs": [
    {
     "name": "stdout",
     "output_type": "stream",
     "text": [
      "Objective value at t=0 is 0.6931471805599453\n",
      "Objective value at t=1 is 0.5973740751234956\n",
      "Objective value at t=2 is 0.558346522118186\n",
      "Objective value at t=3 is 0.5372755549956805\n",
      "Objective value at t=4 is 0.5240923738287032\n",
      "Objective value at t=5 is 0.5151623806934683\n",
      "Objective value at t=6 is 0.5088154391743728\n",
      "Objective value at t=7 is 0.5041566468563976\n",
      "Objective value at t=8 is 0.5006560256661937\n",
      "Objective value at t=9 is 0.4979778171370282\n",
      "Objective value at t=10 is 0.4958989583035701\n",
      "Objective value at t=11 is 0.49426594851741623\n",
      "Objective value at t=12 is 0.49297022663139306\n",
      "Objective value at t=13 is 0.4919332941655367\n",
      "Objective value at t=14 is 0.49109732980025933\n",
      "Objective value at t=15 is 0.4904190639189706\n",
      "Objective value at t=16 is 0.4898656692212737\n",
      "Objective value at t=17 is 0.48941193952472883\n",
      "Objective value at t=18 is 0.4890383141192061\n",
      "Objective value at t=19 is 0.4887294699323283\n",
      "Objective value at t=20 is 0.48847330262067623\n",
      "Objective value at t=21 is 0.48826017877154965\n",
      "Objective value at t=22 is 0.4880823800918425\n",
      "Objective value at t=23 is 0.4879336855130035\n",
      "Objective value at t=24 is 0.48780905367525984\n",
      "Objective value at t=25 is 0.48770437935504324\n",
      "Objective value at t=26 is 0.4876163049691861\n",
      "Objective value at t=27 is 0.48754207352545026\n",
      "Objective value at t=28 is 0.48747941305891856\n",
      "Objective value at t=29 is 0.48742644519794603\n",
      "Objective value at t=30 is 0.48738161237262057\n",
      "Objective value at t=31 is 0.48734361953495026\n",
      "Objective value at t=32 is 0.4873113872540664\n",
      "Objective value at t=33 is 0.4872840137852905\n",
      "Objective value at t=34 is 0.4872607442610784\n",
      "Objective value at t=35 is 0.487240945565331\n",
      "Objective value at t=36 is 0.48722408576634585\n",
      "Objective value at t=37 is 0.4872097172236077\n",
      "Objective value at t=38 is 0.4871974626683497\n",
      "Objective value at t=39 is 0.4871870037010112\n",
      "Objective value at t=40 is 0.48717807126039786\n",
      "Objective value at t=41 is 0.48717043770697194\n",
      "Objective value at t=42 is 0.4871639102318215\n",
      "Objective value at t=43 is 0.4871583253576705\n",
      "Objective value at t=44 is 0.48715354434197505\n",
      "Objective value at t=45 is 0.48714944932711046\n",
      "Objective value at t=46 is 0.4871459401107757\n",
      "Objective value at t=47 is 0.4871429314324302\n",
      "Objective value at t=48 is 0.4871403506899679\n",
      "Objective value at t=49 is 0.48713813601579403\n",
      "Objective value at t=50 is 0.48713623465366424\n",
      "Objective value at t=51 is 0.487134601587638\n",
      "Objective value at t=52 is 0.4871331983826962\n",
      "Objective value at t=53 is 0.48713199220332026\n",
      "Objective value at t=54 is 0.4871309549819014\n",
      "Objective value at t=55 is 0.4871300627134538\n",
      "Objective value at t=56 is 0.48712929485692996\n",
      "Objective value at t=57 is 0.48712863382660576\n",
      "Objective value at t=58 is 0.48712806455965213\n",
      "Objective value at t=59 is 0.4871275741482073\n",
      "Objective value at t=60 is 0.4871271515261135\n",
      "Objective value at t=61 is 0.4871267872020172\n",
      "Objective value at t=62 is 0.487126473031828\n",
      "Objective value at t=63 is 0.4871262020246151\n",
      "Objective value at t=64 is 0.48712596817693204\n",
      "Objective value at t=65 is 0.48712576633132776\n",
      "Objective value at t=66 is 0.4871255920554497\n",
      "Objective value at t=67 is 0.48712544153868725\n",
      "Objective value at t=68 is 0.4871253115037711\n",
      "Objective value at t=69 is 0.487125199131124\n",
      "Objective value at t=70 is 0.48712510199409703\n",
      "Objective value at t=71 is 0.4871250180034998\n",
      "Objective value at t=72 is 0.48712494536006856\n",
      "Objective value at t=73 is 0.48712488251372227\n",
      "Objective value at t=74 is 0.48712482812862007\n",
      "Objective value at t=75 is 0.48712478105318446\n",
      "Objective value at t=76 is 0.48712474029437314\n",
      "Objective value at t=77 is 0.4871247049955893\n",
      "Objective value at t=78 is 0.48712467441770985\n",
      "Objective value at t=79 is 0.48712464792278304\n",
      "Objective value at t=80 is 0.4871246249600186\n",
      "Objective value at t=81 is 0.4871246050537402\n",
      "Objective value at t=82 is 0.48712458779302364\n",
      "Objective value at t=83 is 0.48712457282278265\n",
      "Objective value at t=84 is 0.4871245598360947\n",
      "Objective value at t=85 is 0.48712454856759646\n",
      "Objective value at t=86 is 0.4871245387877926\n",
      "Objective value at t=87 is 0.4871245302981558\n",
      "Objective value at t=88 is 0.4871245229269012\n",
      "Objective value at t=89 is 0.48712451652534716\n",
      "Objective value at t=90 is 0.4871245109647728\n",
      "Objective value at t=91 is 0.4871245061337123\n",
      "Objective value at t=92 is 0.4871245019356157\n",
      "Objective value at t=93 is 0.48712449828683346\n",
      "Objective value at t=94 is 0.4871244951148753\n",
      "Objective value at t=95 is 0.4871244923569056\n",
      "Objective value at t=96 is 0.4871244899584452\n",
      "Objective value at t=97 is 0.4871244878722495\n",
      "Objective value at t=98 is 0.48712448605733744\n",
      "Objective value at t=99 is 0.4871244844781538\n"
     ]
    }
   ],
   "source": [
    "lam = 1E-6\n",
    "stepsize = 1.0\n",
    "w, objvals_gd = grad_descent(x_train, y_train, lam, stepsize)"
   ]
  },
  {
   "cell_type": "markdown",
   "metadata": {},
   "source": [
    "## 3.2. Stochastic gradient descent (SGD)\n",
    "\n",
    "Define $Q_i (w) = \\log \\Big( 1 + \\exp \\big( - y_i x_i^T w \\big) \\Big) + \\frac{\\lambda}{2} \\| w \\|_2^2 $.\n",
    "\n",
    "The stochastic gradient at $w$ is $g_i = \\frac{\\partial Q_i }{ \\partial w} = -\\frac{y_i x_i }{1 + \\exp ( y_i x_i^T w)} + \\lambda w$."
   ]
  },
  {
   "cell_type": "code",
   "execution_count": 9,
   "metadata": {},
   "outputs": [],
   "source": [
    "# Calculate the objective Q_i and the gradient of Q_i\n",
    "# Inputs:\n",
    "#     w: d-by-1 matrix\n",
    "#     xi: 1-by-d matrix\n",
    "#     yi: scalar\n",
    "#     lam: scalar, the regularization parameter\n",
    "# Return:\n",
    "#     obj: scalar, the objective Q_i\n",
    "#     g: d-by-1 matrix, gradient of Q_i\n",
    "def stochastic_objective_gradient(w, xi, yi, lam): \n",
    "    d = xi.shape[0]\n",
    "    yx = yi * xi # 1-by-d matrix\n",
    "    yxw = float(numpy.dot(yx, w)) # scalar\n",
    "    \n",
    "    # calculate objective function Q_i\n",
    "    loss = numpy.log(1 + numpy.exp(-yxw)) # scalar\n",
    "    reg = lam / 2 * numpy.sum(w * w) # scalar\n",
    "    obj = loss + reg\n",
    "    \n",
    "    # calculate stochastic gradient\n",
    "    g_loss = -yx.T / (1 + numpy.exp(yxw)) # d-by-1 matrix\n",
    "    g = g_loss + lam * w # d-by-1 matrix\n",
    "    \n",
    "    return obj, g"
   ]
  },
  {
   "cell_type": "code",
   "execution_count": 10,
   "metadata": {},
   "outputs": [],
   "source": [
    "# SGD for solving logistic regression\n",
    "# Inputs:\n",
    "#     x: n-by-d matrix\n",
    "#     y: n-by-1 matrix\n",
    "#     lam: scalar, the regularization parameter\n",
    "#     stepsize: scalar\n",
    "#     max_epoch: integer, the maximal epochs\n",
    "#     w: d-by-1 matrix, initialization of w\n",
    "# Return:\n",
    "#     w: the solution\n",
    "#     objvals: record of each iteration's objective value\n",
    "def sgd(x, y, lam, stepsize, max_epoch=100, w=None):\n",
    "    n, d = x.shape\n",
    "    objvals = numpy.zeros(max_epoch) # store the objective values\n",
    "    if w is None:\n",
    "        w = numpy.zeros((d, 1)) # zero initialization\n",
    "    \n",
    "    for t in range(max_epoch):\n",
    "        # randomly shuffle the samples\n",
    "        rand_indices = numpy.random.permutation(n)\n",
    "        x_rand = x[rand_indices, :]\n",
    "        y_rand = y[rand_indices, :]\n",
    "        \n",
    "        objval = 0 # accumulate the objective values\n",
    "        for i in range(n):\n",
    "            xi = x_rand[i, :] # 1-by-d matrix\n",
    "            yi = float(y_rand[i, :]) # scalar\n",
    "            obj, g = stochastic_objective_gradient(w, xi, yi, lam)\n",
    "            objval += obj\n",
    "            w -= stepsize * g\n",
    "        \n",
    "        stepsize *= 0.9 # decrease step size\n",
    "        objval /= n\n",
    "        objvals[t] = objval\n",
    "        print('Objective value at epoch t=' + str(t) + ' is ' + str(objval))\n",
    "    \n",
    "    return w, objvals"
   ]
  },
  {
   "cell_type": "markdown",
   "metadata": {},
   "source": [
    "Run SGD."
   ]
  },
  {
   "cell_type": "code",
   "execution_count": 11,
   "metadata": {},
   "outputs": [
    {
     "name": "stdout",
     "output_type": "stream",
     "text": [
      "Objective value at epoch t=0 is 0.5502829638407191\n",
      "Objective value at epoch t=1 is 0.536120603031266\n",
      "Objective value at epoch t=2 is 0.5277936898982327\n",
      "Objective value at epoch t=3 is 0.5208127982490292\n",
      "Objective value at epoch t=4 is 0.5242948745525599\n",
      "Objective value at epoch t=5 is 0.5185612361524566\n",
      "Objective value at epoch t=6 is 0.5166799219069451\n",
      "Objective value at epoch t=7 is 0.5143155561758533\n",
      "Objective value at epoch t=8 is 0.5089751785106642\n",
      "Objective value at epoch t=9 is 0.5074940348001975\n",
      "Objective value at epoch t=10 is 0.5079154766964419\n",
      "Objective value at epoch t=11 is 0.5020780028797438\n",
      "Objective value at epoch t=12 is 0.5046902754795582\n",
      "Objective value at epoch t=13 is 0.5008606015780679\n",
      "Objective value at epoch t=14 is 0.5025997701709877\n",
      "Objective value at epoch t=15 is 0.5005184625602878\n",
      "Objective value at epoch t=16 is 0.5001648264870167\n",
      "Objective value at epoch t=17 is 0.496951690520974\n",
      "Objective value at epoch t=18 is 0.4980505394105458\n",
      "Objective value at epoch t=19 is 0.49552004883776435\n",
      "Objective value at epoch t=20 is 0.4947116629556965\n",
      "Objective value at epoch t=21 is 0.49494755303176136\n",
      "Objective value at epoch t=22 is 0.4942137880195637\n",
      "Objective value at epoch t=23 is 0.49388137067195415\n",
      "Objective value at epoch t=24 is 0.4925000009322624\n",
      "Objective value at epoch t=25 is 0.49204237150096714\n",
      "Objective value at epoch t=26 is 0.4916310596258926\n",
      "Objective value at epoch t=27 is 0.4913504908101336\n",
      "Objective value at epoch t=28 is 0.49068683146455233\n",
      "Objective value at epoch t=29 is 0.49035725092194193\n",
      "Objective value at epoch t=30 is 0.49023291222163123\n",
      "Objective value at epoch t=31 is 0.4899630498718285\n",
      "Objective value at epoch t=32 is 0.48969618484798794\n",
      "Objective value at epoch t=33 is 0.4892720896751183\n",
      "Objective value at epoch t=34 is 0.4891960522985041\n",
      "Objective value at epoch t=35 is 0.48903987664636794\n",
      "Objective value at epoch t=36 is 0.4887903825684866\n",
      "Objective value at epoch t=37 is 0.48862627895589716\n",
      "Objective value at epoch t=38 is 0.48852129018084944\n",
      "Objective value at epoch t=39 is 0.48838230209468547\n",
      "Objective value at epoch t=40 is 0.48823135148111796\n",
      "Objective value at epoch t=41 is 0.4881401410199042\n",
      "Objective value at epoch t=42 is 0.48801881360273036\n",
      "Objective value at epoch t=43 is 0.48793167985449576\n",
      "Objective value at epoch t=44 is 0.4878603051962934\n",
      "Objective value at epoch t=45 is 0.48779305767165193\n",
      "Objective value at epoch t=46 is 0.4877254411675194\n",
      "Objective value at epoch t=47 is 0.48766546103235486\n",
      "Objective value at epoch t=48 is 0.4876089873532409\n",
      "Objective value at epoch t=49 is 0.48756609141203733\n",
      "Objective value at epoch t=50 is 0.48751918963617813\n",
      "Objective value at epoch t=51 is 0.48747425703027447\n",
      "Objective value at epoch t=52 is 0.4874456988546821\n",
      "Objective value at epoch t=53 is 0.48741443674149193\n",
      "Objective value at epoch t=54 is 0.4873851875995204\n",
      "Objective value at epoch t=55 is 0.48736009889117893\n",
      "Objective value at epoch t=56 is 0.4873360346982484\n",
      "Objective value at epoch t=57 is 0.48731563561700497\n",
      "Objective value at epoch t=58 is 0.487296307403897\n",
      "Objective value at epoch t=59 is 0.48727916703136076\n",
      "Objective value at epoch t=60 is 0.4872640907410991\n",
      "Objective value at epoch t=61 is 0.48724985299636475\n",
      "Objective value at epoch t=62 is 0.4872373458253021\n",
      "Objective value at epoch t=63 is 0.48722603146910065\n",
      "Objective value at epoch t=64 is 0.4872159727356344\n",
      "Objective value at epoch t=65 is 0.487206885022122\n",
      "Objective value at epoch t=66 is 0.48719862254115387\n",
      "Objective value at epoch t=67 is 0.4871912602759029\n",
      "Objective value at epoch t=68 is 0.4871846242006831\n",
      "Objective value at epoch t=69 is 0.4871786273346853\n",
      "Objective value at epoch t=70 is 0.487173241111772\n",
      "Objective value at epoch t=71 is 0.48716838609738533\n",
      "Objective value at epoch t=72 is 0.48716401319933905\n",
      "Objective value at epoch t=73 is 0.4871600847372541\n",
      "Objective value at epoch t=74 is 0.4871565391826011\n",
      "Objective value at epoch t=75 is 0.48715333320061294\n",
      "Objective value at epoch t=76 is 0.48715046968120357\n",
      "Objective value at epoch t=77 is 0.48714789245169443\n",
      "Objective value at epoch t=78 is 0.4871455614307963\n",
      "Objective value at epoch t=79 is 0.4871434669888518\n",
      "Objective value at epoch t=80 is 0.4871415874785373\n",
      "Objective value at epoch t=81 is 0.48713989311012834\n",
      "Objective value at epoch t=82 is 0.48713836443491587\n",
      "Objective value at epoch t=83 is 0.4871369911568695\n",
      "Objective value at epoch t=84 is 0.4871357553748023\n",
      "Objective value at epoch t=85 is 0.48713464239240156\n",
      "Objective value at epoch t=86 is 0.4871336408192307\n",
      "Objective value at epoch t=87 is 0.4871327399657631\n",
      "Objective value at epoch t=88 is 0.4871319286997708\n",
      "Objective value at epoch t=89 is 0.4871311984837142\n",
      "Objective value at epoch t=90 is 0.4871305408801434\n",
      "Objective value at epoch t=91 is 0.48712994982527746\n",
      "Objective value at epoch t=92 is 0.4871294166598094\n",
      "Objective value at epoch t=93 is 0.48712893786582584\n",
      "Objective value at epoch t=94 is 0.4871285067669655\n",
      "Objective value at epoch t=95 is 0.4871281187812516\n",
      "Objective value at epoch t=96 is 0.48712776945933\n",
      "Objective value at epoch t=97 is 0.48712745507938326\n",
      "Objective value at epoch t=98 is 0.48712717199388084\n",
      "Objective value at epoch t=99 is 0.4871269174440269\n"
     ]
    }
   ],
   "source": [
    "lam = 1E-6\n",
    "stepsize = 0.1\n",
    "w, objvals_sgd = sgd(x_train, y_train, lam, stepsize)"
   ]
  },
  {
   "cell_type": "markdown",
   "metadata": {},
   "source": [
    "# 4. Compare GD with SGD\n",
    "\n",
    "Plot objective function values against epochs."
   ]
  },
  {
   "cell_type": "code",
   "execution_count": 12,
   "metadata": {},
   "outputs": [
    {
     "name": "stderr",
     "output_type": "stream",
     "text": [
      "<ipython-input-12-9b8d8f4cdfb5>:9: MatplotlibDeprecationWarning: Case-insensitive properties were deprecated in 3.3 and support will be removed two minor releases later\n",
      "  line0, = plt.plot(epochs_gd, objvals_gd, '--b', LineWidth=4)\n",
      "<ipython-input-12-9b8d8f4cdfb5>:10: MatplotlibDeprecationWarning: Case-insensitive properties were deprecated in 3.3 and support will be removed two minor releases later\n",
      "  line1, = plt.plot(epochs_sgd, objvals_sgd, '-r', LineWidth=2)\n",
      "<ipython-input-12-9b8d8f4cdfb5>:11: MatplotlibDeprecationWarning: Case-insensitive properties were deprecated in 3.3 and support will be removed two minor releases later\n",
      "  plt.xlabel('Epochs', FontSize=20)\n",
      "<ipython-input-12-9b8d8f4cdfb5>:12: MatplotlibDeprecationWarning: Case-insensitive properties were deprecated in 3.3 and support will be removed two minor releases later\n",
      "  plt.ylabel('Objective Value', FontSize=20)\n",
      "<ipython-input-12-9b8d8f4cdfb5>:13: MatplotlibDeprecationWarning: Case-insensitive properties were deprecated in 3.3 and support will be removed two minor releases later\n",
      "  plt.xticks(FontSize=16)\n",
      "<ipython-input-12-9b8d8f4cdfb5>:14: MatplotlibDeprecationWarning: Case-insensitive properties were deprecated in 3.3 and support will be removed two minor releases later\n",
      "  plt.yticks(FontSize=16)\n"
     ]
    },
    {
     "data": {
      "image/png": "[encoded data removed]",
      "text/plain": [
       "<Figure size 432x288 with 1 Axes>"
      ]
     },
     "metadata": {
      "needs_background": "light"
     },
     "output_type": "display_data"
    }
   ],
   "source": [
    "import matplotlib.pyplot as plt\n",
    "%matplotlib inline\n",
    "\n",
    "fig = plt.figure(figsize=(6, 4))\n",
    "\n",
    "epochs_gd = range(len(objvals_gd))\n",
    "epochs_sgd = range(len(objvals_sgd))\n",
    "\n",
    "line0, = plt.plot(epochs_gd, objvals_gd, '--b', LineWidth=4)\n",
    "line1, = plt.plot(epochs_sgd, objvals_sgd, '-r', LineWidth=2)\n",
    "plt.xlabel('Epochs', FontSize=20)\n",
    "plt.ylabel('Objective Value', FontSize=20)\n",
    "plt.xticks(FontSize=16)\n",
    "plt.yticks(FontSize=16)\n",
    "plt.legend([line0, line1], ['GD', 'SGD'], fontsize=20)\n",
    "plt.tight_layout()\n",
    "plt.show()\n",
    "fig.savefig('compare_gd_sgd.pdf', format='pdf', dpi=1200)"
   ]
  },
  {
   "cell_type": "markdown",
   "metadata": {},
   "source": [
    "# 5. Prediction"
   ]
  },
  {
   "cell_type": "code",
   "execution_count": 13,
   "metadata": {},
   "outputs": [],
   "source": [
    "# Predict class label\n",
    "# Inputs:\n",
    "#     w: d-by-1 matrix\n",
    "#     X: m-by-d matrix\n",
    "# Return:\n",
    "#     f: m-by-1 matrix, the predictions\n",
    "def predict(w, X):\n",
    "    xw = numpy.dot(X, w)\n",
    "    f = numpy.sign(xw)\n",
    "    return f"
   ]
  },
  {
   "cell_type": "code",
   "execution_count": 14,
   "metadata": {},
   "outputs": [
    {
     "name": "stdout",
     "output_type": "stream",
     "text": [
      "Training classification error is 0.2265625\n"
     ]
    }
   ],
   "source": [
    "# evaluate training error\n",
    "f_train = predict(w, x_train)\n",
    "diff = numpy.abs(f_train - y_train) / 2\n",
    "error_train = numpy.mean(diff)\n",
    "print('Training classification error is ' + str(error_train))"
   ]
  },
  {
   "cell_type": "code",
   "execution_count": 15,
   "metadata": {},
   "outputs": [
    {
     "name": "stdout",
     "output_type": "stream",
     "text": [
      "Test classification error is 0.1796875\n"
     ]
    }
   ],
   "source": [
    "# evaluate test error\n",
    "f_test = predict(w, x_test)\n",
    "diff = numpy.abs(f_test - y_test) / 2\n",
    "error_test = numpy.mean(diff)\n",
    "print('Test classification error is ' + str(error_test))"
   ]
  },
  {
   "cell_type": "markdown",
   "metadata": {},
   "source": [
    "# 6. Mini-batch SGD (fill the code)\n",
    "\n"
   ]
  },
  {
   "cell_type": "markdown",
   "metadata": {},
   "source": [
    "## 6.1. Compute the objective $Q_I$ and its gradient using a batch of samples\n",
    "\n",
    "Define $Q_I (w) = \\frac{1}{b} \\sum_{i \\in I} \\log \\Big( 1 + \\exp \\big( - y_i x_i^T w \\big) \\Big) + \\frac{\\lambda}{2} \\| w \\|_2^2 $, where $I$ is a set containing $b$ indices randomly drawn from $\\{ 1, \\cdots , n \\}$ without replacement.\n",
    "\n",
    "The stochastic gradient at $w$ is $g_I = \\frac{\\partial Q_I }{ \\partial w} = \\frac{1}{b} \\sum_{i \\in I} \\frac{- y_i x_i }{1 + \\exp ( y_i x_i^T w)} + \\lambda w$."
   ]
  },
  {
   "cell_type": "code",
   "execution_count": 30,
   "metadata": {},
   "outputs": [],
   "source": [
    "# Calculate the objective Q_I and the gradient of Q_I\n",
    "# Inputs:\n",
    "#     w: d-by-1 matrix\n",
    "#     xi: b-by-d matrix\n",
    "#     yi: b-by-1 matrix\n",
    "#     lam: scalar, the regularization parameter\n",
    "#     b: integer, the batch size\n",
    "# Return:\n",
    "#     obj: scalar, the objective Q_i\n",
    "#     g: d-by-1 matrix, gradient of Q_i\n",
    "import math\n",
    "def mb_stochastic_objective_gradient(w, xi, yi, lam, b):\n",
    "    # Fill the function\n",
    "    # Follow the implementation of stochastic_objective_gradient\n",
    "    # Use matrix-vector multiplication; do not use FOR LOOP of vector-vector multiplications\n",
    "    n,d = xi.shape\n",
    "    yx = numpy.multiply(yi, xi) # b-by-d matrix\n",
    "    yxw = numpy.dot(yx, w) #b-by-1 matrix\n",
    "    \n",
    "    # calculate objective function Q_i\n",
    "    loss = numpy.mean(numpy.log(1 + numpy.exp(-yxw)))  #b-by-1 matrix\n",
    "    reg = lam/2 * numpy.sum(w * w) #scalar\n",
    "    obj = loss + reg\n",
    "    \n",
    "    \n",
    "    # calculate stochastic gradient\n",
    "    g_loss = -numpy.mean((numpy.divide(yx, 1 + numpy.exp(yxw))), axis=0).reshape(d, 1) # d-by-1 matrix\n",
    "    g = g_loss + lam * w # d-by-1 matrix\n",
    "    \n",
    "    \n",
    "    return obj, g"
   ]
  },
  {
   "cell_type": "markdown",
   "metadata": {},
   "source": [
    "## 6.2. Implement mini-batch SGD\n",
    "\n",
    "Hints:\n",
    "1. In every epoch, randomly permute the $n$ samples (just like SGD).\n",
    "2. Each epoch has $\\frac{n}{b}$ iterations. In every iteration, use $b$ samples, and compute the gradient and objective using the ``mb_stochastic_objective_gradient`` function. In the next iteration, use the next $b$ samples, and so on.\n"
   ]
  },
  {
   "cell_type": "code",
   "execution_count": 31,
   "metadata": {},
   "outputs": [],
   "source": [
    "# Mini-Batch SGD for solving logistic regression\n",
    "# Inputs:\n",
    "#     x: n-by-d matrix\n",
    "#     y: n-by-1 matrix\n",
    "#     lam: scalar, the regularization parameter\n",
    "#     b: integer, the batch size\n",
    "#     stepsize: scalar\n",
    "#     max_epoch: integer, the maximal epochs\n",
    "#     w: d-by-1 matrix, initialization of w\n",
    "# Return:\n",
    "#     w: the solution\n",
    "#     objvals: record of each iteration's objective value\n",
    "def mb_sgd(x, y, lam, b, stepsize, max_epoch=100, w=None):\n",
    "    # Fill the function\n",
    "    # Follow the implementation of sgd\n",
    "    # Record one objective value per epoch (not per iteration!)\n",
    "    n, d = x.shape\n",
    "    objvals = numpy.zeros(max_epoch)\n",
    "    batch_nums = math.floor(n / b)\n",
    "    if w is None:\n",
    "        w = numpy.zeros((d, 1))\n",
    "    \n",
    "    \n",
    "    for t in range(max_epoch):\n",
    "        # randomly shuffle the samples\n",
    "        rand_indices = numpy.random.permutation(n)\n",
    "        x_rand = x[rand_indices, :]\n",
    "        y_rand = y[rand_indices, :]\n",
    "        objval = 0 # accumulate the objective values\n",
    "        \n",
    "        for i in range(0, n, b):\n",
    "            xi = x_rand[i:i+b,:] #b-by-d matrix\n",
    "            yi = y_rand[i:i+b,:] #n-by-1 matrix\n",
    "            obj, g = mb_stochastic_objective_gradient(w, xi, yi, lam, b)\n",
    "            objval += obj\n",
    "            w -= stepsize * g\n",
    "        stepsize *= 0.9 # decrease step size\n",
    "        objval = objval/batch_nums\n",
    "        objvals[t] = objval\n",
    "        print('Objective value at epoch t=' + str(t) + ' is ' + str(objval))   \n",
    "    return w, objvals\n"
   ]
  },
  {
   "cell_type": "markdown",
   "metadata": {},
   "source": [
    "## 6.3. Run MB-SGD"
   ]
  },
  {
   "cell_type": "code",
   "execution_count": 32,
   "metadata": {},
   "outputs": [
    {
     "name": "stdout",
     "output_type": "stream",
     "text": [
      "Objective value at epoch t=0 is 0.5556441264862377\n",
      "Objective value at epoch t=1 is 0.5030754839065819\n",
      "Objective value at epoch t=2 is 0.4959534651991717\n",
      "Objective value at epoch t=3 is 0.49388779574216296\n",
      "Objective value at epoch t=4 is 0.492744507687898\n",
      "Objective value at epoch t=5 is 0.4928142074437175\n",
      "Objective value at epoch t=6 is 0.4918010080649983\n",
      "Objective value at epoch t=7 is 0.4909247636012908\n",
      "Objective value at epoch t=8 is 0.4908735075291112\n",
      "Objective value at epoch t=9 is 0.4909304468047832\n",
      "Objective value at epoch t=10 is 0.49026298319539385\n",
      "Objective value at epoch t=11 is 0.48967779667299816\n",
      "Objective value at epoch t=12 is 0.48967850069799335\n",
      "Objective value at epoch t=13 is 0.48943210479929544\n",
      "Objective value at epoch t=14 is 0.48940445166236557\n",
      "Objective value at epoch t=15 is 0.489053490807728\n",
      "Objective value at epoch t=16 is 0.48876261530205367\n",
      "Objective value at epoch t=17 is 0.4887137525120301\n",
      "Objective value at epoch t=18 is 0.48852208651925977\n",
      "Objective value at epoch t=19 is 0.48842307546687963\n",
      "Objective value at epoch t=20 is 0.4882584875108783\n",
      "Objective value at epoch t=21 is 0.4881450723704277\n",
      "Objective value at epoch t=22 is 0.48807238482409987\n",
      "Objective value at epoch t=23 is 0.48790490647873863\n",
      "Objective value at epoch t=24 is 0.48795327949782596\n",
      "Objective value at epoch t=25 is 0.4878094457549408\n",
      "Objective value at epoch t=26 is 0.48772051857584275\n",
      "Objective value at epoch t=27 is 0.4877078252802248\n",
      "Objective value at epoch t=28 is 0.4876133237411679\n",
      "Objective value at epoch t=29 is 0.4875568405974273\n",
      "Objective value at epoch t=30 is 0.48754127796392766\n",
      "Objective value at epoch t=31 is 0.4874924792237243\n",
      "Objective value at epoch t=32 is 0.48743430087737627\n",
      "Objective value at epoch t=33 is 0.48739827168371674\n",
      "Objective value at epoch t=34 is 0.4874014258664885\n",
      "Objective value at epoch t=35 is 0.48737300201601935\n",
      "Objective value at epoch t=36 is 0.4873395296165877\n",
      "Objective value at epoch t=37 is 0.48732281136533784\n",
      "Objective value at epoch t=38 is 0.4873155387106767\n",
      "Objective value at epoch t=39 is 0.48727740158313476\n",
      "Objective value at epoch t=40 is 0.48726796051222915\n",
      "Objective value at epoch t=41 is 0.4872526442270644\n",
      "Objective value at epoch t=42 is 0.4872545310799311\n",
      "Objective value at epoch t=43 is 0.4872333399139168\n",
      "Objective value at epoch t=44 is 0.48721220813462346\n",
      "Objective value at epoch t=45 is 0.48720464939481667\n",
      "Objective value at epoch t=46 is 0.4872016286685191\n",
      "Objective value at epoch t=47 is 0.4871898158186282\n",
      "Objective value at epoch t=48 is 0.48718394881791705\n",
      "Objective value at epoch t=49 is 0.48717763331050323\n",
      "Objective value at epoch t=50 is 0.4871717333632832\n",
      "Objective value at epoch t=51 is 0.48717185278905506\n",
      "Objective value at epoch t=52 is 0.4871653907655019\n",
      "Objective value at epoch t=53 is 0.4871604191631054\n",
      "Objective value at epoch t=54 is 0.48715770455134483\n",
      "Objective value at epoch t=55 is 0.487154378279799\n",
      "Objective value at epoch t=56 is 0.4871498626142422\n",
      "Objective value at epoch t=57 is 0.48714823594863\n",
      "Objective value at epoch t=58 is 0.4871440862821895\n",
      "Objective value at epoch t=59 is 0.4871435876416463\n",
      "Objective value at epoch t=60 is 0.4871414191685946\n",
      "Objective value at epoch t=61 is 0.48714056364807073\n",
      "Objective value at epoch t=62 is 0.4871379969391449\n",
      "Objective value at epoch t=63 is 0.4871366614783786\n",
      "Objective value at epoch t=64 is 0.4871358179043431\n",
      "Objective value at epoch t=65 is 0.4871358883329271\n",
      "Objective value at epoch t=66 is 0.48713494806781654\n",
      "Objective value at epoch t=67 is 0.48713267596027154\n",
      "Objective value at epoch t=68 is 0.48713212372380443\n",
      "Objective value at epoch t=69 is 0.48713102431547206\n",
      "Objective value at epoch t=70 is 0.4871311587630155\n",
      "Objective value at epoch t=71 is 0.48713035016163575\n",
      "Objective value at epoch t=72 is 0.487129407537357\n",
      "Objective value at epoch t=73 is 0.48712972506801855\n",
      "Objective value at epoch t=74 is 0.4871283868109752\n",
      "Objective value at epoch t=75 is 0.4871281152392137\n",
      "Objective value at epoch t=76 is 0.48712808553336434\n",
      "Objective value at epoch t=77 is 0.48712768112703586\n",
      "Objective value at epoch t=78 is 0.48712747781438176\n",
      "Objective value at epoch t=79 is 0.4871272460677966\n",
      "Objective value at epoch t=80 is 0.48712686167749275\n",
      "Objective value at epoch t=81 is 0.48712677319470793\n",
      "Objective value at epoch t=82 is 0.48712648557105737\n",
      "Objective value at epoch t=83 is 0.487126437666053\n",
      "Objective value at epoch t=84 is 0.4871264008371499\n",
      "Objective value at epoch t=85 is 0.4871260005593399\n",
      "Objective value at epoch t=86 is 0.4871257922738111\n",
      "Objective value at epoch t=87 is 0.48712580338213407\n",
      "Objective value at epoch t=88 is 0.4871256803196668\n",
      "Objective value at epoch t=89 is 0.48712560705802693\n",
      "Objective value at epoch t=90 is 0.4871254433805043\n",
      "Objective value at epoch t=91 is 0.4871255272760376\n",
      "Objective value at epoch t=92 is 0.48712540449620406\n",
      "Objective value at epoch t=93 is 0.4871253200998204\n",
      "Objective value at epoch t=94 is 0.4871252649702134\n",
      "Objective value at epoch t=95 is 0.48712521835211386\n",
      "Objective value at epoch t=96 is 0.48712519097336066\n",
      "Objective value at epoch t=97 is 0.4871250982582175\n",
      "Objective value at epoch t=98 is 0.4871250960421286\n",
      "Objective value at epoch t=99 is 0.48712508827389656\n"
     ]
    }
   ],
   "source": [
    "# MB-SGD with batch size b=8\n",
    "lam = 1E-6 # do not change\n",
    "b = 8 # do not change\n",
    "stepsize = 0.1 # you must tune this parameter\n",
    "\n",
    "w, objvals_mbsgd8 = mb_sgd(x_train, y_train, lam, b, stepsize)"
   ]
  },
  {
   "cell_type": "code",
   "execution_count": 33,
   "metadata": {},
   "outputs": [
    {
     "name": "stdout",
     "output_type": "stream",
     "text": [
      "Objective value at epoch t=0 is 0.651151831090598\n",
      "Objective value at epoch t=1 is 0.5914848915854434\n",
      "Objective value at epoch t=2 is 0.5617972527908173\n",
      "Objective value at epoch t=3 is 0.5449045504545625\n",
      "Objective value at epoch t=4 is 0.5339514797286867\n",
      "Objective value at epoch t=5 is 0.5261525688794101\n",
      "Objective value at epoch t=6 is 0.5208463439771328\n",
      "Objective value at epoch t=7 is 0.516777207789975\n",
      "Objective value at epoch t=8 is 0.5135850821933319\n",
      "Objective value at epoch t=9 is 0.5109475468400183\n",
      "Objective value at epoch t=10 is 0.5089729059779391\n",
      "Objective value at epoch t=11 is 0.507321638785436\n",
      "Objective value at epoch t=12 is 0.5060559387086795\n",
      "Objective value at epoch t=13 is 0.5048106259701395\n",
      "Objective value at epoch t=14 is 0.5038664708587517\n",
      "Objective value at epoch t=15 is 0.5032244305537114\n",
      "Objective value at epoch t=16 is 0.5024224304525208\n",
      "Objective value at epoch t=17 is 0.5018055369183809\n",
      "Objective value at epoch t=18 is 0.5013441118472595\n",
      "Objective value at epoch t=19 is 0.5008886210841963\n",
      "Objective value at epoch t=20 is 0.5005269595639603\n",
      "Objective value at epoch t=21 is 0.5001750809096682\n",
      "Objective value at epoch t=22 is 0.49986924363484214\n",
      "Objective value at epoch t=23 is 0.49964698731878715\n",
      "Objective value at epoch t=24 is 0.49938388063292705\n",
      "Objective value at epoch t=25 is 0.4991896674590395\n",
      "Objective value at epoch t=26 is 0.49904985685220443\n",
      "Objective value at epoch t=27 is 0.4988707500680326\n",
      "Objective value at epoch t=28 is 0.4987056526297221\n",
      "Objective value at epoch t=29 is 0.4985969254734375\n",
      "Objective value at epoch t=30 is 0.49848571288092547\n",
      "Objective value at epoch t=31 is 0.49839118138756683\n",
      "Objective value at epoch t=32 is 0.4983015992727082\n",
      "Objective value at epoch t=33 is 0.4982202571093966\n",
      "Objective value at epoch t=34 is 0.4981616627553576\n",
      "Objective value at epoch t=35 is 0.4980839412054472\n",
      "Objective value at epoch t=36 is 0.4980353588168204\n",
      "Objective value at epoch t=37 is 0.49798900789262673\n",
      "Objective value at epoch t=38 is 0.4979367489689862\n",
      "Objective value at epoch t=39 is 0.4979021529087627\n",
      "Objective value at epoch t=40 is 0.4978565830425016\n",
      "Objective value at epoch t=41 is 0.49783318348197036\n",
      "Objective value at epoch t=42 is 0.49779877590508537\n",
      "Objective value at epoch t=43 is 0.497770454335705\n",
      "Objective value at epoch t=44 is 0.49774848201053307\n",
      "Objective value at epoch t=45 is 0.4977295356750682\n",
      "Objective value at epoch t=46 is 0.497708084492995\n",
      "Objective value at epoch t=47 is 0.4976926730722157\n",
      "Objective value at epoch t=48 is 0.49767843211635265\n",
      "Objective value at epoch t=49 is 0.49766363778139705\n",
      "Objective value at epoch t=50 is 0.4976501649362877\n",
      "Objective value at epoch t=51 is 0.49763945407949867\n",
      "Objective value at epoch t=52 is 0.4976288561995825\n",
      "Objective value at epoch t=53 is 0.4976210979836284\n",
      "Objective value at epoch t=54 is 0.4976119579279324\n",
      "Objective value at epoch t=55 is 0.49760417771581994\n",
      "Objective value at epoch t=56 is 0.4975977985763829\n",
      "Objective value at epoch t=57 is 0.4975920131210804\n",
      "Objective value at epoch t=58 is 0.4975872851261217\n",
      "Objective value at epoch t=59 is 0.49758179345254094\n",
      "Objective value at epoch t=60 is 0.4975790596304998\n",
      "Objective value at epoch t=61 is 0.4975741864846358\n",
      "Objective value at epoch t=62 is 0.49757029270734376\n",
      "Objective value at epoch t=63 is 0.4975677009828027\n",
      "Objective value at epoch t=64 is 0.497564709420493\n",
      "Objective value at epoch t=65 is 0.497562094511783\n",
      "Objective value at epoch t=66 is 0.49756001948222306\n",
      "Objective value at epoch t=67 is 0.49755787248907046\n",
      "Objective value at epoch t=68 is 0.49755622989627507\n",
      "Objective value at epoch t=69 is 0.4975544497955517\n",
      "Objective value at epoch t=70 is 0.4975528687809284\n",
      "Objective value at epoch t=71 is 0.49755163796001145\n",
      "Objective value at epoch t=72 is 0.49755044191165043\n",
      "Objective value at epoch t=73 is 0.4975492321866164\n",
      "Objective value at epoch t=74 is 0.49754823359463796\n",
      "Objective value at epoch t=75 is 0.49754743898665665\n",
      "Objective value at epoch t=76 is 0.49754672849678094\n",
      "Objective value at epoch t=77 is 0.4975459389709548\n",
      "Objective value at epoch t=78 is 0.49754524234984504\n",
      "Objective value at epoch t=79 is 0.4975446677511305\n",
      "Objective value at epoch t=80 is 0.4975441211591932\n",
      "Objective value at epoch t=81 is 0.4975436622789168\n",
      "Objective value at epoch t=82 is 0.4975432159681678\n",
      "Objective value at epoch t=83 is 0.49754288021986837\n",
      "Objective value at epoch t=84 is 0.497542523471813\n",
      "Objective value at epoch t=85 is 0.49754219332299465\n",
      "Objective value at epoch t=86 is 0.49754190611853993\n",
      "Objective value at epoch t=87 is 0.4975416624239979\n",
      "Objective value at epoch t=88 is 0.4975414712920159\n",
      "Objective value at epoch t=89 is 0.49754124790468357\n",
      "Objective value at epoch t=90 is 0.4975410588520296\n",
      "Objective value at epoch t=91 is 0.4975409244885225\n",
      "Objective value at epoch t=92 is 0.49754077635893257\n",
      "Objective value at epoch t=93 is 0.49754062480642336\n",
      "Objective value at epoch t=94 is 0.497540496774347\n",
      "Objective value at epoch t=95 is 0.49754041678254773\n",
      "Objective value at epoch t=96 is 0.49754031476371285\n",
      "Objective value at epoch t=97 is 0.49754022088614\n",
      "Objective value at epoch t=98 is 0.49754014256101253\n",
      "Objective value at epoch t=99 is 0.4975400838496675\n"
     ]
    }
   ],
   "source": [
    "# MB-SGD with batch size b=64\n",
    "lam = 1E-6 # do not change\n",
    "b = 64 # do not change\n",
    "stepsize = 0.1 # you must tune this parameter\n",
    "\n",
    "w, objvals_mbsgd64 = mb_sgd(x_train, y_train, lam, b, stepsize)"
   ]
  },
  {
   "cell_type": "markdown",
   "metadata": {},
   "source": [
    "# 7. Plot and compare GD, SGD, and MB-SGD"
   ]
  },
  {
   "cell_type": "markdown",
   "metadata": {},
   "source": [
    "You are required to compare the following algorithms:\n",
    "\n",
    "- Gradient descent (GD)\n",
    "\n",
    "- SGD\n",
    "\n",
    "- MB-SGD with b=8\n",
    "\n",
    "- MB-SGD with b=64\n",
    "\n",
    "Follow the code in Section 4 to plot ```objective function value``` against ```epochs```. There should be four curves in the plot; each curve corresponds to one algorithm."
   ]
  },
  {
   "cell_type": "markdown",
   "metadata": {},
   "source": [
    "Hint: Logistic regression with $\\ell_2$-norm regularization is a strongly convex optimization problem. All the algorithms will converge to the same solution. **In the end, the ``objective function value`` of the 4 algorithms will be the same. If not the same, your implementation must be wrong. Do NOT submit wrong code and wrong result!**"
   ]
  },
  {
   "cell_type": "code",
   "execution_count": 37,
   "metadata": {},
   "outputs": [
    {
     "name": "stderr",
     "output_type": "stream",
     "text": [
      "<ipython-input-37-c1f35e1fc1c5>:9: MatplotlibDeprecationWarning: Case-insensitive properties were deprecated in 3.3 and support will be removed two minor releases later\n",
      "  line0, = plt.plot(epochs_gd, objvals_gd, '--b', LineWidth=4)\n",
      "<ipython-input-37-c1f35e1fc1c5>:10: MatplotlibDeprecationWarning: Case-insensitive properties were deprecated in 3.3 and support will be removed two minor releases later\n",
      "  line1, = plt.plot(epochs_sgd, objvals_sgd, '-r', LineWidth=2)\n",
      "<ipython-input-37-c1f35e1fc1c5>:11: MatplotlibDeprecationWarning: Case-insensitive properties were deprecated in 3.3 and support will be removed two minor releases later\n",
      "  line2, = plt.plot(epochs_mbsgd8, objvals_mbsgd8, '--g', LineWidth=2)\n",
      "<ipython-input-37-c1f35e1fc1c5>:12: MatplotlibDeprecationWarning: Case-insensitive properties were deprecated in 3.3 and support will be removed two minor releases later\n",
      "  line3, = plt.plot(epochs_mbsgd64, objvals_mbsgd64, '-y', LineWidth=1)\n",
      "<ipython-input-37-c1f35e1fc1c5>:13: MatplotlibDeprecationWarning: Case-insensitive properties were deprecated in 3.3 and support will be removed two minor releases later\n",
      "  plt.xlabel('Epochs', FontSize=20)\n",
      "<ipython-input-37-c1f35e1fc1c5>:14: MatplotlibDeprecationWarning: Case-insensitive properties were deprecated in 3.3 and support will be removed two minor releases later\n",
      "  plt.ylabel('Objective Value', FontSize=20)\n",
      "<ipython-input-37-c1f35e1fc1c5>:15: MatplotlibDeprecationWarning: Case-insensitive properties were deprecated in 3.3 and support will be removed two minor releases later\n",
      "  plt.xticks(FontSize=16)\n",
      "<ipython-input-37-c1f35e1fc1c5>:16: MatplotlibDeprecationWarning: Case-insensitive properties were deprecated in 3.3 and support will be removed two minor releases later\n",
      "  plt.yticks(FontSize=16)\n"
     ]
    },
    {
     "data": {
      "image/png": "[encoded data removed]",
      "text/plain": [
       "<Figure size 432x288 with 1 Axes>"
      ]
     },
     "metadata": {
      "needs_background": "light"
     },
     "output_type": "display_data"
    }
   ],
   "source": [
    "# plot the 4 curves:\n",
    "fig = plt.figure(figsize=(6, 4))\n",
    "\n",
    "epochs_gd = range(len(objvals_gd))\n",
    "epochs_sgd = range(len(objvals_sgd))\n",
    "epochs_mbsgd8 = range(len(objvals_mbsgd8))\n",
    "epochs_mbsgd64 = range(len(objvals_mbsgd64))\n",
    "\n",
    "line0, = plt.plot(epochs_gd, objvals_gd, '--b', LineWidth=4)\n",
    "line1, = plt.plot(epochs_sgd, objvals_sgd, '-r', LineWidth=2)\n",
    "line2, = plt.plot(epochs_mbsgd8, objvals_mbsgd8, '--g', LineWidth=2)\n",
    "line3, = plt.plot(epochs_mbsgd64, objvals_mbsgd64, '-y', LineWidth=1)\n",
    "plt.xlabel('Epochs', FontSize=20)\n",
    "plt.ylabel('Objective Value', FontSize=20)\n",
    "plt.xticks(FontSize=16)\n",
    "plt.yticks(FontSize=16)\n",
    "plt.legend([line0, line1, line2, line3], ['GD', 'SGD', 'MBSGD8','MBSGD64'], fontsize=20)\n",
    "plt.tight_layout()\n",
    "plt.show()\n",
    "fig.savefig('compare_gd_sgd_mbsgd.pdf', format='pdf', dpi=1200)"
   ]
  },
  {
   "cell_type": "markdown",
   "metadata": {},
   "source": []
  }
 ],
 "metadata": {
  "kernelspec": {
   "display_name": "Python 3",
   "language": "python",
   "name": "python3"
  },
  "language_info": {
   "codemirror_mode": {
    "name": "ipython",
    "version": 3
   },
   "file_extension": ".py",
   "mimetype": "text/x-python",
   "name": "python",
   "nbconvert_exporter": "python",
   "pygments_lexer": "ipython3",
   "version": "3.8.5"
  }
 },
 "nbformat": 4,
 "nbformat_minor": 2
}
